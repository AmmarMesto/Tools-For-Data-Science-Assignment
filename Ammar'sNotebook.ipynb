{
 "cells": [
  {
   "cell_type": "markdown",
   "id": "b93aa9f8-c927-4a1d-921b-0647a77feb7e",
   "metadata": {},
   "source": [
    "# My Jupyter Notebook on IBM Watson Studio"
   ]
  },
  {
   "cell_type": "markdown",
   "id": "1b71f468-3f27-477f-b4b0-dc224d400621",
   "metadata": {},
   "source": [
    "**Ammar Mesto**<br>\n",
    "Mechatronics Engineer"
   ]
  },
  {
   "cell_type": "markdown",
   "id": "756562cc-6a88-4fa8-99f3-74dbf006c389",
   "metadata": {},
   "source": [
    "*I am interested in data science because I want to become a Data Scientist.*"
   ]
  },
  {
   "cell_type": "markdown",
   "id": "92321ff4-776e-4707-bc85-3ffd7b44a0ef",
   "metadata": {
    "tags": []
   },
   "source": [
    " ### Print a Welcome Message:"
   ]
  },
  {
   "cell_type": "code",
   "execution_count": 1,
   "id": "2bec95f5-5128-4c39-85da-587f27990e94",
   "metadata": {},
   "outputs": [
    {
     "name": "stdout",
     "output_type": "stream",
     "text": [
      "Welcome!\n"
     ]
    }
   ],
   "source": [
    "print(\"Welcome!\")"
   ]
  },
  {
   "cell_type": "markdown",
   "id": "64a938c1-6b0f-43d3-8aa2-2f336c401163",
   "metadata": {},
   "source": [
    "|Header1|Header2|\n",
    "|:---:|:---:|\n",
    "|Cell1|Cell2|\n",
    "|Cell3|Cell4|\n",
    "\n",
    "~~A Strikethrough~~<br>\n",
    "Horisontal Rule:\n",
    "---\n",
    "https://www.ibm.com"
   ]
  }
 ],
 "metadata": {
  "kernelspec": {
   "display_name": "Python",
   "language": "python",
   "name": "conda-env-python-py"
  },
  "language_info": {
   "codemirror_mode": {
    "name": "ipython",
    "version": 3
   },
   "file_extension": ".py",
   "mimetype": "text/x-python",
   "name": "python",
   "nbconvert_exporter": "python",
   "pygments_lexer": "ipython3",
   "version": "3.7.12"
  }
 },
 "nbformat": 4,
 "nbformat_minor": 5
}
